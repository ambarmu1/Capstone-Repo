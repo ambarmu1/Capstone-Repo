{
    "nbformat_minor": 1, 
    "cells": [
        {
            "source": "## Introduction", 
            "cell_type": "markdown", 
            "metadata": {
                "collapsed": true
            }
        }, 
        {
            "source": "Los Angeles and San Francisco are two of the most significant metropolitan cities in the state of California. The two cities cater to the varying needs for tourists, city dwellers, and business patrons. With the varied culinary tastes of the cities' residents and visitors, it would be beneficial for diners and restauranteurs to know: what are the most profitable types of cuisines in each city? Does Los Angeles share similar characteristics to San Francisco in culinary tastes, or is it more aligned with another major city? These components are critical for new restaurant owners to know where to open a new business so that their ventures are lucrative and profitable.", 
            "cell_type": "markdown", 
            "metadata": {}
        }, 
        {
            "source": "", 
            "cell_type": "code", 
            "metadata": {}, 
            "outputs": [], 
            "execution_count": null
        }
    ], 
    "metadata": {
        "kernelspec": {
            "display_name": "Python 3.5", 
            "name": "python3", 
            "language": "python"
        }, 
        "language_info": {
            "mimetype": "text/x-python", 
            "nbconvert_exporter": "python", 
            "version": "3.5.5", 
            "name": "python", 
            "file_extension": ".py", 
            "pygments_lexer": "ipython3", 
            "codemirror_mode": {
                "version": 3, 
                "name": "ipython"
            }
        }
    }, 
    "nbformat": 4
}